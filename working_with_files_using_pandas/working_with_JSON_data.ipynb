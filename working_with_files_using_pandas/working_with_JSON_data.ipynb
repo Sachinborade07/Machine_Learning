{
 "cells": [
  {
   "cell_type": "code",
   "execution_count": 1,
   "id": "64706d67-d940-4234-a58c-0db50113be4f",
   "metadata": {},
   "outputs": [],
   "source": [
    "import pandas as pd"
   ]
  },
  {
   "cell_type": "code",
   "execution_count": 3,
   "id": "008b5e68-79a8-4db3-b0c0-70f4f58824c6",
   "metadata": {},
   "outputs": [
    {
     "data": {
      "text/html": [
       "<div>\n",
       "<style scoped>\n",
       "    .dataframe tbody tr th:only-of-type {\n",
       "        vertical-align: middle;\n",
       "    }\n",
       "\n",
       "    .dataframe tbody tr th {\n",
       "        vertical-align: top;\n",
       "    }\n",
       "\n",
       "    .dataframe thead th {\n",
       "        text-align: right;\n",
       "    }\n",
       "</style>\n",
       "<table border=\"1\" class=\"dataframe\">\n",
       "  <thead>\n",
       "    <tr style=\"text-align: right;\">\n",
       "      <th></th>\n",
       "      <th>id</th>\n",
       "      <th>cuisine</th>\n",
       "      <th>ingredients</th>\n",
       "    </tr>\n",
       "  </thead>\n",
       "  <tbody>\n",
       "    <tr>\n",
       "      <th>0</th>\n",
       "      <td>10259</td>\n",
       "      <td>greek</td>\n",
       "      <td>[romaine lettuce, black olives, grape tomatoes...</td>\n",
       "    </tr>\n",
       "    <tr>\n",
       "      <th>1</th>\n",
       "      <td>25693</td>\n",
       "      <td>southern_us</td>\n",
       "      <td>[plain flour, ground pepper, salt, tomatoes, g...</td>\n",
       "    </tr>\n",
       "    <tr>\n",
       "      <th>2</th>\n",
       "      <td>20130</td>\n",
       "      <td>filipino</td>\n",
       "      <td>[eggs, pepper, salt, mayonaise, cooking oil, g...</td>\n",
       "    </tr>\n",
       "    <tr>\n",
       "      <th>3</th>\n",
       "      <td>22213</td>\n",
       "      <td>indian</td>\n",
       "      <td>[water, vegetable oil, wheat, salt]</td>\n",
       "    </tr>\n",
       "    <tr>\n",
       "      <th>4</th>\n",
       "      <td>13162</td>\n",
       "      <td>indian</td>\n",
       "      <td>[black pepper, shallots, cornflour, cayenne pe...</td>\n",
       "    </tr>\n",
       "    <tr>\n",
       "      <th>...</th>\n",
       "      <td>...</td>\n",
       "      <td>...</td>\n",
       "      <td>...</td>\n",
       "    </tr>\n",
       "    <tr>\n",
       "      <th>39769</th>\n",
       "      <td>29109</td>\n",
       "      <td>irish</td>\n",
       "      <td>[light brown sugar, granulated sugar, butter, ...</td>\n",
       "    </tr>\n",
       "    <tr>\n",
       "      <th>39770</th>\n",
       "      <td>11462</td>\n",
       "      <td>italian</td>\n",
       "      <td>[KRAFT Zesty Italian Dressing, purple onion, b...</td>\n",
       "    </tr>\n",
       "    <tr>\n",
       "      <th>39771</th>\n",
       "      <td>2238</td>\n",
       "      <td>irish</td>\n",
       "      <td>[eggs, citrus fruit, raisins, sourdough starte...</td>\n",
       "    </tr>\n",
       "    <tr>\n",
       "      <th>39772</th>\n",
       "      <td>41882</td>\n",
       "      <td>chinese</td>\n",
       "      <td>[boneless chicken skinless thigh, minced garli...</td>\n",
       "    </tr>\n",
       "    <tr>\n",
       "      <th>39773</th>\n",
       "      <td>2362</td>\n",
       "      <td>mexican</td>\n",
       "      <td>[green chile, jalapeno chilies, onions, ground...</td>\n",
       "    </tr>\n",
       "  </tbody>\n",
       "</table>\n",
       "<p>39774 rows × 3 columns</p>\n",
       "</div>"
      ],
      "text/plain": [
       "          id      cuisine                                        ingredients\n",
       "0      10259        greek  [romaine lettuce, black olives, grape tomatoes...\n",
       "1      25693  southern_us  [plain flour, ground pepper, salt, tomatoes, g...\n",
       "2      20130     filipino  [eggs, pepper, salt, mayonaise, cooking oil, g...\n",
       "3      22213       indian                [water, vegetable oil, wheat, salt]\n",
       "4      13162       indian  [black pepper, shallots, cornflour, cayenne pe...\n",
       "...      ...          ...                                                ...\n",
       "39769  29109        irish  [light brown sugar, granulated sugar, butter, ...\n",
       "39770  11462      italian  [KRAFT Zesty Italian Dressing, purple onion, b...\n",
       "39771   2238        irish  [eggs, citrus fruit, raisins, sourdough starte...\n",
       "39772  41882      chinese  [boneless chicken skinless thigh, minced garli...\n",
       "39773   2362      mexican  [green chile, jalapeno chilies, onions, ground...\n",
       "\n",
       "[39774 rows x 3 columns]"
      ]
     },
     "execution_count": 3,
     "metadata": {},
     "output_type": "execute_result"
    }
   ],
   "source": [
    "pd.read_json(\"/home/sachin/Downloads/archive (5)/train.json\")\n",
    "# here we are importing the json data with the help of pandas "
   ]
  },
  {
   "cell_type": "code",
   "execution_count": 4,
   "id": "bb656717-ad4f-43ce-abf4-5a7afd447b6a",
   "metadata": {},
   "outputs": [],
   "source": [
    "#  we can also import the JSON data from API KEY  "
   ]
  },
  {
   "cell_type": "code",
   "execution_count": 5,
   "id": "a66557e1-f9ba-4701-8dd2-965d37f55f71",
   "metadata": {},
   "outputs": [
    {
     "data": {
      "text/html": [
       "<div>\n",
       "<style scoped>\n",
       "    .dataframe tbody tr th:only-of-type {\n",
       "        vertical-align: middle;\n",
       "    }\n",
       "\n",
       "    .dataframe tbody tr th {\n",
       "        vertical-align: top;\n",
       "    }\n",
       "\n",
       "    .dataframe thead th {\n",
       "        text-align: right;\n",
       "    }\n",
       "</style>\n",
       "<table border=\"1\" class=\"dataframe\">\n",
       "  <thead>\n",
       "    <tr style=\"text-align: right;\">\n",
       "      <th></th>\n",
       "      <th>{\"provider\":\"https://www.exchangerate-api.com\"</th>\n",
       "      <th>WARNING_UPGRADE_TO_V6:\"https://www.exchangerate-api.com/docs/free\"</th>\n",
       "      <th>terms:\"https://www.exchangerate-api.com/terms\"</th>\n",
       "      <th>base:\"INR\"</th>\n",
       "      <th>date:\"2024-07-08\"</th>\n",
       "      <th>time_last_updated:1720396801</th>\n",
       "      <th>rates:{\"INR\":1</th>\n",
       "      <th>AED:0.044</th>\n",
       "      <th>AFN:0.851</th>\n",
       "      <th>ALL:1.11</th>\n",
       "      <th>...</th>\n",
       "      <th>WST:0.0323</th>\n",
       "      <th>XAF:7.26</th>\n",
       "      <th>XCD:0.0323</th>\n",
       "      <th>XDR:0.00905</th>\n",
       "      <th>XOF:7.26</th>\n",
       "      <th>XPF:1.32</th>\n",
       "      <th>YER:3</th>\n",
       "      <th>ZAR:0.218</th>\n",
       "      <th>ZMW:0.292</th>\n",
       "      <th>ZWL:0.164}}</th>\n",
       "    </tr>\n",
       "  </thead>\n",
       "  <tbody>\n",
       "  </tbody>\n",
       "</table>\n",
       "<p>0 rows × 168 columns</p>\n",
       "</div>"
      ],
      "text/plain": [
       "Empty DataFrame\n",
       "Columns: [{\"provider\":\"https://www.exchangerate-api.com\", WARNING_UPGRADE_TO_V6:\"https://www.exchangerate-api.com/docs/free\", terms:\"https://www.exchangerate-api.com/terms\", base:\"INR\", date:\"2024-07-08\", time_last_updated:1720396801, rates:{\"INR\":1, AED:0.044, AFN:0.851, ALL:1.11, AMD:4.65, ANG:0.0214, AOA:10.46, ARS:10.99, AUD:0.0178, AWG:0.0214, AZN:0.0204, BAM:0.0216, BBD:0.0239, BDT:1.41, BGN:0.0216, BHD:0.0045, BIF:34.58, BMD:0.012, BND:0.0162, BOB:0.0827, BRL:0.0655, BSD:0.012, BTN:1, BWP:0.163, BYN:0.0391, BZD:0.0239, CAD:0.0163, CDF:33.94, CHF:0.0108, CLP:11.22, CNY:0.0872, COP:49.01, CRC:6.33, CUP:0.287, CVE:1.22, CZK:0.279, DJF:2.13, DKK:0.0825, DOP:0.707, DZD:1.61, EGP:0.574, ERN:0.18, ETB:0.691, EUR:0.0111, FJD:0.0267, FKP:0.00936, FOK:0.0825, GBP:0.00936, GEL:0.0332, GGP:0.00936, GHS:0.186, GIP:0.00936, GMD:0.766, GNF:102.78, GTQ:0.0929, GYD:2.5, HKD:0.0936, HNL:0.296, HRK:0.0834, HTG:1.58, HUF:4.34, IDR:194.91, ILS:0.0442, IMP:0.00936, IQD:15.67, IRR:507.79, ISK:1.65, JEP:0.00936, JMD:1.87, JOD:0.00849, JPY:1.93, KES:1.54, KGS:1.04, KHR:49.54, KID:0.0178, KMF:5.44, KRW:16.49, KWD:0.00367, KYD:0.00998, KZT:5.73, LAK:264.83, LBP:1071.65, LKR:3.65, LRD:2.33, LSL:0.218, LYD:0.0583, MAD:0.118, MDL:0.214, MGA:53.91, MKD:0.682, MMK:33.86, MNT:40.27, MOP:0.0964, MRU:0.476, ...]\n",
       "Index: []\n",
       "\n",
       "[0 rows x 168 columns]"
      ]
     },
     "execution_count": 5,
     "metadata": {},
     "output_type": "execute_result"
    }
   ],
   "source": [
    "pd.read_csv(\"https://api.exchangerate-api.com/v4/latest/INR\")"
   ]
  },
  {
   "cell_type": "code",
   "execution_count": null,
   "id": "d16d8aed-1e90-47a5-afca-acfb30c4f800",
   "metadata": {},
   "outputs": [],
   "source": [
    "# These are only two methdos to do read the JSON data. "
   ]
  }
 ],
 "metadata": {
  "kernelspec": {
   "display_name": "Python 3 (ipykernel)",
   "language": "python",
   "name": "python3"
  },
  "language_info": {
   "codemirror_mode": {
    "name": "ipython",
    "version": 3
   },
   "file_extension": ".py",
   "mimetype": "text/x-python",
   "name": "python",
   "nbconvert_exporter": "python",
   "pygments_lexer": "ipython3",
   "version": "3.11.7"
  }
 },
 "nbformat": 4,
 "nbformat_minor": 5
}
